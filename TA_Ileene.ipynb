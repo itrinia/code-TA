{
  "nbformat": 4,
  "nbformat_minor": 0,
  "metadata": {
    "colab": {
      "provenance": [],
      "authorship_tag": "ABX9TyMtUC8eHOrbgWyGiK2yD0aq",
      "include_colab_link": true
    },
    "kernelspec": {
      "name": "python3",
      "display_name": "Python 3"
    },
    "language_info": {
      "name": "python"
    }
  },
  "cells": [
    {
      "cell_type": "markdown",
      "metadata": {
        "id": "view-in-github",
        "colab_type": "text"
      },
      "source": [
        "<a href=\"https://colab.research.google.com/github/itrinia/code-TA/blob/main/TA_Ileene.ipynb\" target=\"_parent\"><img src=\"https://colab.research.google.com/assets/colab-badge.svg\" alt=\"Open In Colab\"/></a>"
      ]
    },
    {
      "cell_type": "code",
      "source": [
        "!pip install kagglehub"
      ],
      "metadata": {
        "colab": {
          "base_uri": "https://localhost:8080/"
        },
        "id": "YkYJvOMIxmdL",
        "outputId": "8702368b-509f-4fcd-b243-e7c6ba2092c0"
      },
      "execution_count": 1,
      "outputs": [
        {
          "output_type": "stream",
          "name": "stdout",
          "text": [
            "Requirement already satisfied: kagglehub in /usr/local/lib/python3.11/dist-packages (0.3.9)\n",
            "Requirement already satisfied: packaging in /usr/local/lib/python3.11/dist-packages (from kagglehub) (24.2)\n",
            "Requirement already satisfied: pyyaml in /usr/local/lib/python3.11/dist-packages (from kagglehub) (6.0.2)\n",
            "Requirement already satisfied: requests in /usr/local/lib/python3.11/dist-packages (from kagglehub) (2.32.3)\n",
            "Requirement already satisfied: tqdm in /usr/local/lib/python3.11/dist-packages (from kagglehub) (4.67.1)\n",
            "Requirement already satisfied: charset-normalizer<4,>=2 in /usr/local/lib/python3.11/dist-packages (from requests->kagglehub) (3.4.1)\n",
            "Requirement already satisfied: idna<4,>=2.5 in /usr/local/lib/python3.11/dist-packages (from requests->kagglehub) (3.10)\n",
            "Requirement already satisfied: urllib3<3,>=1.21.1 in /usr/local/lib/python3.11/dist-packages (from requests->kagglehub) (2.3.0)\n",
            "Requirement already satisfied: certifi>=2017.4.17 in /usr/local/lib/python3.11/dist-packages (from requests->kagglehub) (2025.1.31)\n"
          ]
        }
      ]
    },
    {
      "cell_type": "code",
      "source": [
        "!pip install kaggle"
      ],
      "metadata": {
        "colab": {
          "base_uri": "https://localhost:8080/"
        },
        "id": "uhU4L8lE7Vu6",
        "outputId": "d30fad4c-81e7-4f39-b399-0e4b18cec5f0"
      },
      "execution_count": 5,
      "outputs": [
        {
          "output_type": "stream",
          "name": "stdout",
          "text": [
            "Requirement already satisfied: kaggle in /usr/local/lib/python3.11/dist-packages (1.6.17)\n",
            "Requirement already satisfied: six>=1.10 in /usr/local/lib/python3.11/dist-packages (from kaggle) (1.17.0)\n",
            "Requirement already satisfied: certifi>=2023.7.22 in /usr/local/lib/python3.11/dist-packages (from kaggle) (2025.1.31)\n",
            "Requirement already satisfied: python-dateutil in /usr/local/lib/python3.11/dist-packages (from kaggle) (2.8.2)\n",
            "Requirement already satisfied: requests in /usr/local/lib/python3.11/dist-packages (from kaggle) (2.32.3)\n",
            "Requirement already satisfied: tqdm in /usr/local/lib/python3.11/dist-packages (from kaggle) (4.67.1)\n",
            "Requirement already satisfied: python-slugify in /usr/local/lib/python3.11/dist-packages (from kaggle) (8.0.4)\n",
            "Requirement already satisfied: urllib3 in /usr/local/lib/python3.11/dist-packages (from kaggle) (2.3.0)\n",
            "Requirement already satisfied: bleach in /usr/local/lib/python3.11/dist-packages (from kaggle) (6.2.0)\n",
            "Requirement already satisfied: webencodings in /usr/local/lib/python3.11/dist-packages (from bleach->kaggle) (0.5.1)\n",
            "Requirement already satisfied: text-unidecode>=1.3 in /usr/local/lib/python3.11/dist-packages (from python-slugify->kaggle) (1.3)\n",
            "Requirement already satisfied: charset-normalizer<4,>=2 in /usr/local/lib/python3.11/dist-packages (from requests->kaggle) (3.4.1)\n",
            "Requirement already satisfied: idna<4,>=2.5 in /usr/local/lib/python3.11/dist-packages (from requests->kaggle) (3.10)\n"
          ]
        }
      ]
    },
    {
      "cell_type": "code",
      "source": [
        "from google.colab import files\n",
        "files.upload()"
      ],
      "metadata": {
        "colab": {
          "base_uri": "https://localhost:8080/",
          "height": 90
        },
        "id": "XD-OvHu_7L2k",
        "outputId": "9d8b3be5-19ab-4166-9f8f-0dafa6331958"
      },
      "execution_count": 3,
      "outputs": [
        {
          "output_type": "display_data",
          "data": {
            "text/plain": [
              "<IPython.core.display.HTML object>"
            ],
            "text/html": [
              "\n",
              "     <input type=\"file\" id=\"files-da652aee-de25-4c0d-98a6-2f5c66b3de5a\" name=\"files[]\" multiple disabled\n",
              "        style=\"border:none\" />\n",
              "     <output id=\"result-da652aee-de25-4c0d-98a6-2f5c66b3de5a\">\n",
              "      Upload widget is only available when the cell has been executed in the\n",
              "      current browser session. Please rerun this cell to enable.\n",
              "      </output>\n",
              "      <script>// Copyright 2017 Google LLC\n",
              "//\n",
              "// Licensed under the Apache License, Version 2.0 (the \"License\");\n",
              "// you may not use this file except in compliance with the License.\n",
              "// You may obtain a copy of the License at\n",
              "//\n",
              "//      http://www.apache.org/licenses/LICENSE-2.0\n",
              "//\n",
              "// Unless required by applicable law or agreed to in writing, software\n",
              "// distributed under the License is distributed on an \"AS IS\" BASIS,\n",
              "// WITHOUT WARRANTIES OR CONDITIONS OF ANY KIND, either express or implied.\n",
              "// See the License for the specific language governing permissions and\n",
              "// limitations under the License.\n",
              "\n",
              "/**\n",
              " * @fileoverview Helpers for google.colab Python module.\n",
              " */\n",
              "(function(scope) {\n",
              "function span(text, styleAttributes = {}) {\n",
              "  const element = document.createElement('span');\n",
              "  element.textContent = text;\n",
              "  for (const key of Object.keys(styleAttributes)) {\n",
              "    element.style[key] = styleAttributes[key];\n",
              "  }\n",
              "  return element;\n",
              "}\n",
              "\n",
              "// Max number of bytes which will be uploaded at a time.\n",
              "const MAX_PAYLOAD_SIZE = 100 * 1024;\n",
              "\n",
              "function _uploadFiles(inputId, outputId) {\n",
              "  const steps = uploadFilesStep(inputId, outputId);\n",
              "  const outputElement = document.getElementById(outputId);\n",
              "  // Cache steps on the outputElement to make it available for the next call\n",
              "  // to uploadFilesContinue from Python.\n",
              "  outputElement.steps = steps;\n",
              "\n",
              "  return _uploadFilesContinue(outputId);\n",
              "}\n",
              "\n",
              "// This is roughly an async generator (not supported in the browser yet),\n",
              "// where there are multiple asynchronous steps and the Python side is going\n",
              "// to poll for completion of each step.\n",
              "// This uses a Promise to block the python side on completion of each step,\n",
              "// then passes the result of the previous step as the input to the next step.\n",
              "function _uploadFilesContinue(outputId) {\n",
              "  const outputElement = document.getElementById(outputId);\n",
              "  const steps = outputElement.steps;\n",
              "\n",
              "  const next = steps.next(outputElement.lastPromiseValue);\n",
              "  return Promise.resolve(next.value.promise).then((value) => {\n",
              "    // Cache the last promise value to make it available to the next\n",
              "    // step of the generator.\n",
              "    outputElement.lastPromiseValue = value;\n",
              "    return next.value.response;\n",
              "  });\n",
              "}\n",
              "\n",
              "/**\n",
              " * Generator function which is called between each async step of the upload\n",
              " * process.\n",
              " * @param {string} inputId Element ID of the input file picker element.\n",
              " * @param {string} outputId Element ID of the output display.\n",
              " * @return {!Iterable<!Object>} Iterable of next steps.\n",
              " */\n",
              "function* uploadFilesStep(inputId, outputId) {\n",
              "  const inputElement = document.getElementById(inputId);\n",
              "  inputElement.disabled = false;\n",
              "\n",
              "  const outputElement = document.getElementById(outputId);\n",
              "  outputElement.innerHTML = '';\n",
              "\n",
              "  const pickedPromise = new Promise((resolve) => {\n",
              "    inputElement.addEventListener('change', (e) => {\n",
              "      resolve(e.target.files);\n",
              "    });\n",
              "  });\n",
              "\n",
              "  const cancel = document.createElement('button');\n",
              "  inputElement.parentElement.appendChild(cancel);\n",
              "  cancel.textContent = 'Cancel upload';\n",
              "  const cancelPromise = new Promise((resolve) => {\n",
              "    cancel.onclick = () => {\n",
              "      resolve(null);\n",
              "    };\n",
              "  });\n",
              "\n",
              "  // Wait for the user to pick the files.\n",
              "  const files = yield {\n",
              "    promise: Promise.race([pickedPromise, cancelPromise]),\n",
              "    response: {\n",
              "      action: 'starting',\n",
              "    }\n",
              "  };\n",
              "\n",
              "  cancel.remove();\n",
              "\n",
              "  // Disable the input element since further picks are not allowed.\n",
              "  inputElement.disabled = true;\n",
              "\n",
              "  if (!files) {\n",
              "    return {\n",
              "      response: {\n",
              "        action: 'complete',\n",
              "      }\n",
              "    };\n",
              "  }\n",
              "\n",
              "  for (const file of files) {\n",
              "    const li = document.createElement('li');\n",
              "    li.append(span(file.name, {fontWeight: 'bold'}));\n",
              "    li.append(span(\n",
              "        `(${file.type || 'n/a'}) - ${file.size} bytes, ` +\n",
              "        `last modified: ${\n",
              "            file.lastModifiedDate ? file.lastModifiedDate.toLocaleDateString() :\n",
              "                                    'n/a'} - `));\n",
              "    const percent = span('0% done');\n",
              "    li.appendChild(percent);\n",
              "\n",
              "    outputElement.appendChild(li);\n",
              "\n",
              "    const fileDataPromise = new Promise((resolve) => {\n",
              "      const reader = new FileReader();\n",
              "      reader.onload = (e) => {\n",
              "        resolve(e.target.result);\n",
              "      };\n",
              "      reader.readAsArrayBuffer(file);\n",
              "    });\n",
              "    // Wait for the data to be ready.\n",
              "    let fileData = yield {\n",
              "      promise: fileDataPromise,\n",
              "      response: {\n",
              "        action: 'continue',\n",
              "      }\n",
              "    };\n",
              "\n",
              "    // Use a chunked sending to avoid message size limits. See b/62115660.\n",
              "    let position = 0;\n",
              "    do {\n",
              "      const length = Math.min(fileData.byteLength - position, MAX_PAYLOAD_SIZE);\n",
              "      const chunk = new Uint8Array(fileData, position, length);\n",
              "      position += length;\n",
              "\n",
              "      const base64 = btoa(String.fromCharCode.apply(null, chunk));\n",
              "      yield {\n",
              "        response: {\n",
              "          action: 'append',\n",
              "          file: file.name,\n",
              "          data: base64,\n",
              "        },\n",
              "      };\n",
              "\n",
              "      let percentDone = fileData.byteLength === 0 ?\n",
              "          100 :\n",
              "          Math.round((position / fileData.byteLength) * 100);\n",
              "      percent.textContent = `${percentDone}% done`;\n",
              "\n",
              "    } while (position < fileData.byteLength);\n",
              "  }\n",
              "\n",
              "  // All done.\n",
              "  yield {\n",
              "    response: {\n",
              "      action: 'complete',\n",
              "    }\n",
              "  };\n",
              "}\n",
              "\n",
              "scope.google = scope.google || {};\n",
              "scope.google.colab = scope.google.colab || {};\n",
              "scope.google.colab._files = {\n",
              "  _uploadFiles,\n",
              "  _uploadFilesContinue,\n",
              "};\n",
              "})(self);\n",
              "</script> "
            ]
          },
          "metadata": {}
        },
        {
          "output_type": "stream",
          "name": "stdout",
          "text": [
            "Saving kaggle.json to kaggle.json\n"
          ]
        },
        {
          "output_type": "execute_result",
          "data": {
            "text/plain": [
              "{'kaggle.json': b'{\"username\":\"ileenetrinia\",\"key\":\"386b16d264283e369b0d30e76898fe79\"}'}"
            ]
          },
          "metadata": {},
          "execution_count": 3
        }
      ]
    },
    {
      "cell_type": "code",
      "source": [
        "import os\n",
        "os.makedirs('/root/.kaggle', exist_ok=True)\n",
        "os.rename('kaggle.json', '/root/.kaggle/kaggle.json')"
      ],
      "metadata": {
        "id": "OPGmOGe17SpJ"
      },
      "execution_count": 4,
      "outputs": []
    },
    {
      "cell_type": "code",
      "source": [
        "os.chmod('/root/.kaggle/kaggle.json', 600)"
      ],
      "metadata": {
        "id": "NmFsEY4w7Yzv"
      },
      "execution_count": 6,
      "outputs": []
    },
    {
      "cell_type": "code",
      "source": [
        "# Dataset DocUNet\n",
        "!kaggle datasets download -d minhbithun/docunet-dataset -p /content\n",
        "\n",
        "# Dataset SROIE v2\n",
        "!kaggle datasets download -d urbikn/sroie-datasetv2 -p /content\n",
        "\n",
        "# extract dataset\n",
        "import zipfile\n",
        "\n",
        "# Ekstrak DocUNet\n",
        "with zipfile.ZipFile(\"/content/docunet-dataset.zip\", 'r') as zip_ref:\n",
        "    zip_ref.extractall(\"/content/DocUNet\")\n",
        "\n",
        "# Ekstrak SROIE v2\n",
        "with zipfile.ZipFile(\"/content/sroie-datasetv2.zip\", 'r') as zip_ref:\n",
        "    zip_ref.extractall(\"/content/SROIEv2\")\n",
        "\n",
        "print(\"Dataset DocUNet telah diekstrak di /content/DocUNet\")\n",
        "print(\"Dataset SROIE v2 telah diekstrak di /content/SROIEv2\")"
      ],
      "metadata": {
        "colab": {
          "base_uri": "https://localhost:8080/"
        },
        "id": "H_EyUFlT71_r",
        "outputId": "4cf7b6de-4647-4de2-cfd5-38986c1857df"
      },
      "execution_count": 8,
      "outputs": [
        {
          "output_type": "stream",
          "name": "stdout",
          "text": [
            "Dataset URL: https://www.kaggle.com/datasets/minhbithun/docunet-dataset\n",
            "License(s): unknown\n",
            "Downloading docunet-dataset.zip to /content\n",
            "100% 11.8G/11.8G [08:02<00:00, 29.3MB/s]\n",
            "100% 11.8G/11.8G [08:02<00:00, 26.3MB/s]\n",
            "Dataset URL: https://www.kaggle.com/datasets/urbikn/sroie-datasetv2\n",
            "License(s): other\n",
            "Downloading sroie-datasetv2.zip to /content\n",
            "100% 832M/834M [00:34<00:00, 19.5MB/s]\n",
            "100% 834M/834M [00:34<00:00, 25.1MB/s]\n",
            "Dataset DocUNet telah diekstrak di /content/DocUNet\n",
            "Dataset SROIE v2 telah diekstrak di /content/SROIEv2\n"
          ]
        }
      ]
    },
    {
      "cell_type": "code",
      "execution_count": 7,
      "metadata": {
        "id": "W1nHvFWpAw5_"
      },
      "outputs": [],
      "source": [
        "# import kagglehub\n",
        "\n",
        "# # Download latest version of DocUNet Dataset\n",
        "# path_docunet = kagglehub.dataset_download(\"minhbithun/docunet-dataset\")\n",
        "# print(\"Path to DocUNet dataset files:\", path_docunet)\n",
        "\n",
        "# # Download latest version of SROIE Dataset v2\n",
        "# path_sroie = kagglehub.dataset_download(\"urbikn/sroie-datasetv2\")\n",
        "# print(\"Path to SROIE dataset files:\", path_sroie)\n"
      ]
    },
    {
      "cell_type": "code",
      "source": [
        "# from google.colab import drive\n",
        "# kaggle datasets download -d urbikn/sroie-datasetv2 dan menyimpannya ke Google Drive\n",
        "# !kaggle datasets download -d minhbithun/docunet-dataset -p /content/drive/MyDrive/datasets\n",
        "# !kaggle datasets download -d urbikn/sroie-datasetv2 -p /content/drive/MyDrive/datasets"
      ],
      "metadata": {
        "id": "EDHyAUf9_xC8"
      },
      "execution_count": null,
      "outputs": []
    },
    {
      "cell_type": "code",
      "source": [
        "import numpy as np\n",
        "import cv2\n",
        "import os\n",
        "import tensorflow as tf\n",
        "from tensorflow.keras import layers, models\n",
        "from tensorflow.keras.applications import VGG16\n",
        "from sklearn.model_selection import train_test_split\n",
        "from skimage.metrics import structural_similarity as ssim\n",
        "from skimage.metrics import peak_signal_noise_ratio as psnr"
      ],
      "metadata": {
        "id": "V_cmx5Pr-BwV"
      },
      "execution_count": 9,
      "outputs": []
    },
    {
      "cell_type": "code",
      "source": [
        "import cv2\n",
        "import numpy as np\n",
        "import os\n",
        "from sklearn.model_selection import train_test_split\n",
        "''' '''  ''' '''\n",
        "def load_image(image_path):\n",
        "    img = cv2.imread(image_path, cv2.IMREAD_GRAYSCALE)\n",
        "    img = cv2.resize(img, (512, 512))\n",
        "    img = np.expand_dims(img, axis=-1)\n",
        "    img = img.astype(\"float32\") / 255.0\n",
        "    return img\n",
        "\n",
        "path_docunet = '/content/DocUNet/synthetic/image'\n",
        "path_sroie = '/content/SROIEv2/SROIE2019/train/img'\n",
        "\n",
        "# load image\n",
        "docunet_images = [load_image(os.path.join(path_docunet, img)) for img in os.listdir(path_docunet) if img.endswith('.png') or img.endswith('.jpg')]\n",
        "sroie_images = [load_image(os.path.join(path_sroie, img)) for img in os.listdir(path_sroie) if img.endswith('.png') or img.endswith('.jpg')]\n",
        "\n",
        "# merge dataset\n",
        "images = np.array(docunet_images + sroie_images)\n",
        "labels = np.array([0] * len(docunet_images) + [1] * len(sroie_images))  # Label 0 untuk DocUNet, 1 untuk SROIE"
      ],
      "metadata": {
        "id": "XINsZK1C7Bo1"
      },
      "execution_count": null,
      "outputs": []
    },
    {
      "cell_type": "code",
      "source": [
        "import numpy as np\n",
        "import cv2\n",
        "import os\n",
        "from sklearn.model_selection import train_test_split\n",
        "from tensorflow.keras.preprocessing.image import ImageDataGenerator\n",
        "import matplotlib.pyplot as plt\n",
        "\n",
        "# Fungsi untuk Image Enhancement\n",
        "def enhance_image(img):\n",
        "    # Contrast Limited Adaptive Histogram Equalization (CLAHE)\n",
        "    clahe = cv2.createCLAHE(clipLimit=2.0, tileGridSize=(8, 8))\n",
        "    img_clahe = clahe.apply((img * 255).astype(np.uint8)) / 255.0  # Klahe dan normalisasi kembali\n",
        "\n",
        "    # Denoising (Mengurangi noise)\n",
        "    img_denoised = cv2.fastNlMeansDenoising(img_clahe.astype(np.uint8), None, 10, 7, 21)\n",
        "\n",
        "    # Edge detection menggunakan Canny\n",
        "    img_edges = cv2.Canny(img_denoised.astype(np.uint8), threshold1=100, threshold2=200)\n",
        "\n",
        "    # Binarization (Thresholding) untuk teks\n",
        "    _, img_binarized = cv2.threshold(img_denoised, 127, 255, cv2.THRESH_BINARY)\n",
        "\n",
        "    return img_binarized\n",
        "\n",
        "# Fungsi untuk Augmentasi Data\n",
        "def augment_data(image):\n",
        "    # Mempersiapkan objek ImageDataGenerator untuk augmentasi\n",
        "    datagen = ImageDataGenerator(\n",
        "        rotation_range=30,   # Rotasi gambar hingga 30 derajat\n",
        "        width_shift_range=0.1,  # Translasi horizontal\n",
        "        height_shift_range=0.1, # Translasi vertikal\n",
        "        shear_range=0.2,     # Distorsi shear\n",
        "        zoom_range=0.2,      # Scaling\n",
        "        horizontal_flip=True,  # Flipping horizontal\n",
        "        fill_mode='nearest'   # Mengisi area yang hilang dengan pixel terdekat\n",
        "    )\n",
        "\n",
        "    # Augmentasi gambar\n",
        "    augmented_image = datagen.random_transform(image)\n",
        "    return augmented_image\n",
        "\n",
        "# Fungsi untuk memisahkan dataset menjadi training, validation, dan testing\n",
        "def split_dataset(images, test_size=0.3):\n",
        "    # Membagi dataset menjadi 70% pelatihan, 15% validasi, 15% pengujian\n",
        "    X_train, X_temp = train_test_split(images, test_size=test_size, random_state=42)\n",
        "    X_val, X_test = train_test_split(X_temp, test_size=0.5, random_state=42)\n",
        "\n",
        "    return X_train, X_val, X_test\n",
        "\n",
        "# Path untuk gambar (ganti dengan path sebenarnya)\n",
        "path_docunet = 'path_to_docunet_images'  # Ganti dengan path dataset DocUNet\n",
        "path_sroie = 'path_to_sroie_images'      # Ganti dengan path dataset SROIE\n",
        "\n",
        "# Memuat semua gambar dari kedua dataset\n",
        "docunet_images = [load_image(os.path.join(path_docunet, img)) for img in os.listdir(path_docunet)]\n",
        "sroie_images = [load_image(os.path.join(path_sroie, img)) for img in os.listdir(path_sroie)]\n",
        "\n",
        "# Gabungkan gambar dari kedua dataset\n",
        "images = np.array(docunet_images + sroie_images)\n",
        "\n",
        "# Enhancing gambar (CLAHE, denoising, edge detection, binarization)\n",
        "enhanced_images = np.array([enhance_image(img) for img in images])\n",
        "\n",
        "# Augmentasi data untuk setiap gambar\n",
        "augmented_images = np.array([augment_data(img) for img in enhanced_images])\n",
        "\n",
        "# Pisahkan dataset menjadi training, validation, dan testing\n",
        "X_train, X_val, X_test = split_dataset(augmented_images, test_size=0.3)\n",
        "\n",
        "# Tampilkan beberapa contoh gambar hasil preprocessing\n",
        "for i in range(3):\n",
        "    plt.figure(figsize=(12, 6))\n",
        "\n",
        "    # Gambar asli\n",
        "    plt.subplot(1, 3, 1)\n",
        "    plt.imshow(images[i], cmap='gray')\n",
        "    plt.title(\"Original Image\")\n",
        "\n",
        "    # Gambar setelah enhancement\n",
        "    plt.subplot(1, 3, 2)\n",
        "    plt.imshow(enhanced_images[i], cmap='gray')\n",
        "    plt.title(\"Enhanced Image\")\n",
        "\n",
        "    # Gambar setelah augmentasi\n",
        "    plt.subplot(1, 3, 3)\n",
        "    plt.imshow(augmented_images[i], cmap='gray')\n",
        "    plt.title(\"Augmented Image\")\n",
        "\n",
        "    plt.show()\n",
        "\n",
        "# Print size of datasets\n",
        "print(f\"Training set size: {len(X_train)}\")\n",
        "print(f\"Validation set size: {len(X_val)}\")\n",
        "print(f\"Test set size: {len(X_test)}\")\n"
      ],
      "metadata": {
        "id": "iQjffvqK5Yj4"
      },
      "execution_count": null,
      "outputs": []
    },
    {
      "cell_type": "code",
      "source": [
        "# Attention Mechanism Layer\n",
        "class AttentionLayer(layers.Layer):\n",
        "    def __init__(self, channels):\n",
        "        super(AttentionLayer, self).__init__()\n",
        "        self.attention = layers.Conv2D(channels, (1, 1), activation='sigmoid')\n",
        "\n",
        "    def call(self, inputs):\n",
        "        attention_weights = self.attention(inputs)\n",
        "        return inputs * attention_weights\n",
        "\n",
        "# Residual Block\n",
        "def residual_block(x, filters):\n",
        "    res = layers.Conv2D(filters, (3, 3), padding='same')(x)\n",
        "    res = layers.ReLU()(res)\n",
        "    res = layers.Conv2D(filters, (3, 3), padding='same')(res)\n",
        "    return layers.add([x, res])\n",
        "\n",
        "# Model DocUNet\n",
        "def create_docunet_model(input_shape=(256, 256, 1)):\n",
        "    inputs = layers.Input(shape=input_shape)\n",
        "\n",
        "    # Encoder: Convolutional layers\n",
        "    x = layers.Conv2D(64, (3, 3), activation='relu', padding='same')(inputs)\n",
        "    x = layers.MaxPooling2D((2, 2))(x)\n",
        "\n",
        "    x = residual_block(x, 64)\n",
        "\n",
        "    # Attention Mechanism Layer\n",
        "    x = AttentionLayer(64)(x)\n",
        "\n",
        "    # Deeper Convolutional Layers\n",
        "    x = layers.Conv2D(128, (3, 3), activation='relu', padding='same')(x)\n",
        "    x = layers.MaxPooling2D((2, 2))(x)\n",
        "\n",
        "    # Decoder: Upsampling and convolution\n",
        "    x = layers.Conv2DTranspose(64, (3, 3), strides=2, activation='relu', padding='same')(x)\n",
        "    x = layers.Conv2D(1, (3, 3), activation='sigmoid', padding='same')(x)\n",
        "\n",
        "    model = models.Model(inputs, x)\n",
        "    model.compile(optimizer='adam', loss='binary_crossentropy', metrics=['accuracy'])\n",
        "\n",
        "    return model\n",
        "\n",
        "# Membuat model\n",
        "model = create_docunet_model()\n",
        "model.summary()\n"
      ],
      "metadata": {
        "id": "CN78uxpx7Dg1"
      },
      "execution_count": null,
      "outputs": []
    },
    {
      "cell_type": "code",
      "source": [
        "# Melatih model\n",
        "history = model.fit(X_train, X_train, epochs=10, batch_size=16, validation_data=(X_test, X_test))\n"
      ],
      "metadata": {
        "id": "fS3SOtrG7HdI"
      },
      "execution_count": null,
      "outputs": []
    },
    {
      "cell_type": "code",
      "source": [
        "# Fungsi untuk mengevaluasi SSIM dan PSNR\n",
        "def evaluate_metrics(y_true, y_pred):\n",
        "    ssim_score = ssim(y_true, y_pred, data_range=y_pred.max() - y_pred.min())\n",
        "    psnr_score = psnr(y_true, y_pred)\n",
        "    return ssim_score, psnr_score\n",
        "\n",
        "# Uji pada data test\n",
        "y_pred = model.predict(X_test)\n",
        "\n",
        "# Evaluasi metrik SSIM dan PSNR untuk beberapa gambar\n",
        "ssim_scores = []\n",
        "psnr_scores = []\n",
        "for i in range(len(X_test)):\n",
        "    ssim_score, psnr_score = evaluate_metrics(X_test[i], y_pred[i])\n",
        "    ssim_scores.append(ssim_score)\n",
        "    psnr_scores.append(psnr_score)\n",
        "\n",
        "# Hitung rata-rata SSIM dan PSNR\n",
        "average_ssim = np.mean(ssim_scores)\n",
        "average_psnr = np.mean(psnr_scores)\n",
        "\n",
        "print(\"Average SSIM:\", average_ssim)\n",
        "print(\"Average PSNR:\", average_psnr)\n"
      ],
      "metadata": {
        "id": "nv6qayzF7JcW"
      },
      "execution_count": null,
      "outputs": []
    },
    {
      "cell_type": "code",
      "source": [
        "# Menyimpan model\n",
        "model.save('docunet_model.h5')\n",
        "\n",
        "# Menampilkan hasil rekonstruksi pada beberapa gambar\n",
        "import matplotlib.pyplot as plt\n",
        "\n",
        "for i in range(5):\n",
        "    plt.figure(figsize=(10, 5))\n",
        "    plt.subplot(1, 2, 1)\n",
        "    plt.imshow(X_test[i].squeeze(), cmap='gray')\n",
        "    plt.title(\"Original Image\")\n",
        "\n",
        "    plt.subplot(1, 2, 2)\n",
        "    plt.imshow(y_pred[i].squeeze(), cmap='gray')\n",
        "    plt.title(\"Reconstructed Image\")\n",
        "\n",
        "    plt.show()\n"
      ],
      "metadata": {
        "id": "DnqkNrRe7K7A"
      },
      "execution_count": null,
      "outputs": []
    }
  ]
}